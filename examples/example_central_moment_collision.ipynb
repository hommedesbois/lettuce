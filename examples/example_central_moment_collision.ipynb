{
 "cells": [
  {
   "cell_type": "code",
   "execution_count": null,
   "id": "e8967be8",
   "metadata": {},
   "outputs": [],
   "source": [
    "import lettuce as lt\n",
    "import matplotlib.pyplot as plt\n",
    "import numpy as np\n",
    "import torch\n",
    "import importlib as imp\n",
    "\n",
    "imp.reload(lt)"
   ]
  },
  {
   "cell_type": "code",
   "execution_count": null,
   "id": "e83ea353",
   "metadata": {},
   "outputs": [],
   "source": [
    "device = \"cpu\"\n",
    "dtype = torch.float32\n",
    "\n",
    "resolution=100\n",
    "lattice = lt.Lattice(lt.D2Q9, device, dtype)\n",
    "#flow = lt.PoiseuilleFlow2D(resolution=resolution, reynolds_number=10000, mach_number=0.029, lattice=lattice, initialize_with_zeros=False)\n",
    "#flow = lt.Vortex2D(resolution=100, reynolds_number=10000, mach_number=0.1, lattice=lattice, vortex_radius = 0.05, vortex_strength = 0.4)\n",
    "flow = lt.DoublyPeriodicShear2D(resolution=200, reynolds_number=5000, mach_number=0.1, lattice=lattice)\n",
    "\n",
    "#grid = [np.linspace(0, 2 * np.pi, num=flow.resolution, endpoint=False) for _ in range(lattice.D)]\n",
    "\n",
    "\n",
    "# def grid():\n",
    "#     x = np.linspace(0, 1, num=resolution + 1, endpoint=True)\n",
    "#     y = np.linspace(0, 1, num=resolution + 1, endpoint=True)\n",
    "#     return np.meshgrid(x, y, indexing='ij')\n",
    "\n",
    "\n",
    "\n",
    "#p, u = flow.initial_solution(grid())\n",
    "\n",
    "# def grid():\n",
    "#     x = np.linspace(0, 1, num=resolution + 1, endpoint=True)\n",
    "#     y = np.linspace(0, 1, num=resolution + 1, endpoint=True)\n",
    "#     return np.meshgrid(x, y, indexing='ij')\n",
    "\n",
    "# x,y = grid()\n",
    "\n",
    "# half_lattice_spacing = 0.5 / resolution\n",
    "\n",
    "# nu = 0.000015\n",
    "# rho = 1\n",
    "# u = np.array([\n",
    "#             0.001 / (2 * 1 * nu) * ((y - half_lattice_spacing) * (1 - half_lattice_spacing - y)),\n",
    "#             np.zeros(x.shape)\n",
    "#         ])\n",
    "# p = np.array([y * 0 + rho])\n",
    "\n",
    "# np.shape(y)"
   ]
  },
  {
   "cell_type": "code",
   "execution_count": null,
   "id": "0b9b45ed",
   "metadata": {},
   "outputs": [],
   "source": [
    "# fig, (ax1, ax2) = plt.subplots(1,2)\n",
    "# im1 = ax1.imshow(u[0])\n",
    "# fig.colorbar(im1, ax=ax1, shrink=0.5)\n",
    "# im2 = ax2.imshow(p[0])\n",
    "# fig.colorbar(im2, ax=ax2, shrink=0.5)\n",
    "\n",
    "# #plt.title('Initialized velocity')\n",
    "# plt.tight_layout()\n",
    "# plt.show()"
   ]
  },
  {
   "cell_type": "code",
   "execution_count": null,
   "id": "92108f6a",
   "metadata": {},
   "outputs": [],
   "source": [
    "num_steps = 5000\n",
    "num_save = 10\n",
    "interval = np.ceil(num_steps/num_save)"
   ]
  },
  {
   "cell_type": "code",
   "execution_count": null,
   "id": "5cf4632d",
   "metadata": {},
   "outputs": [],
   "source": [
    "transform = lt.D2Q9Cascaded(lattice)\n",
    "tau = flow.units.relaxation_parameter_lu\n",
    "relaxation_parameters = np.array([1, 1, 1, tau, tau, tau, 1, 1, 1])\n",
    "#collision = lt.BGKCollision(lattice, tau=flow.units.relaxation_parameter_lu)\n",
    "collision = lt.CMCollision(lattice, transform, relaxation_parameters)\n",
    "streaming = lt.StandardStreaming(lattice)\n",
    "simulation = lt.Simulation(flow=flow, lattice=lattice, collision=collision, streaming=streaming)\n",
    "\n",
    "simulation.reporters.append(lt.VTKReporter(lattice, flow, interval, filename_base=\"output/output\"))\n",
    "# u  = flow.units.convert_velocity_to_pu(lattice.u(simulation.f)).numpy()\n",
    "# u = u[0] # x-velocity\n",
    "# np.max(u)"
   ]
  },
  {
   "cell_type": "code",
   "execution_count": null,
   "id": "e661f4c1",
   "metadata": {},
   "outputs": [],
   "source": [
    "# rho  = flow.units.convert_density_to_pu(lattice.rho(simulation.f)).numpy()\n",
    "# rho = rho[0]-1\n",
    "\n",
    "# np.shape(rho)"
   ]
  },
  {
   "cell_type": "code",
   "execution_count": null,
   "id": "028dbb7b",
   "metadata": {},
   "outputs": [],
   "source": [
    "# y = np.linspace(0, 1, num=101, endpoint=True)\n",
    "# y = y - 0.5/100\n",
    "# print(y)"
   ]
  },
  {
   "cell_type": "code",
   "execution_count": null,
   "id": "db2d07b1",
   "metadata": {},
   "outputs": [],
   "source": [
    "# fig, (ax1, ax2) = plt.subplots(1,2)\n",
    "# im1 = ax1.imshow(u[0])\n",
    "# fig.colorbar(im1, ax=ax1, shrink=0.5)\n",
    "# im2 = ax2.imshow(p)\n",
    "# fig.colorbar(im2, ax=ax2, shrink=0.5)\n",
    "\n",
    "# #plt.title('Initialized velocity')\n",
    "# plt.tight_layout()\n",
    "# plt.show()"
   ]
  },
  {
   "cell_type": "code",
   "execution_count": null,
   "id": "ee73ba2c",
   "metadata": {},
   "outputs": [],
   "source": [
    "simulation.initialize_f_neq()\n",
    "mlups = simulation.step(num_steps)\n",
    "print(\"Performance in MLUPS:\", mlups)"
   ]
  },
  {
   "cell_type": "code",
   "execution_count": null,
   "id": "89eb2e97",
   "metadata": {},
   "outputs": [],
   "source": [
    "u = flow.units.convert_velocity_to_pu(lattice.u(simulation.f)).numpy()\n",
    "u_norm = np.linalg.norm(u,axis=0)\n",
    "plt.imshow(u_norm)\n",
    "plt.colorbar()\n",
    "plt.show()"
   ]
  },
  {
   "cell_type": "code",
   "execution_count": null,
   "id": "648f4dee",
   "metadata": {},
   "outputs": [],
   "source": []
  },
  {
   "cell_type": "code",
   "execution_count": null,
   "id": "cbf8d388",
   "metadata": {},
   "outputs": [],
   "source": []
  }
 ],
 "metadata": {
  "kernelspec": {
   "display_name": "lettuce",
   "language": "python",
   "name": "lettuce"
  },
  "language_info": {
   "codemirror_mode": {
    "name": "ipython",
    "version": 3
   },
   "file_extension": ".py",
   "mimetype": "text/x-python",
   "name": "python",
   "nbconvert_exporter": "python",
   "pygments_lexer": "ipython3",
   "version": "3.9.12"
  }
 },
 "nbformat": 4,
 "nbformat_minor": 5
}
