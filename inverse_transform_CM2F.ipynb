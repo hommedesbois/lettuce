{
 "cells": [
  {
   "cell_type": "code",
   "execution_count": 1,
   "metadata": {},
   "outputs": [],
   "source": [
    "import numpy as np\n",
    "import sympy as sp"
   ]
  },
  {
   "cell_type": "code",
   "execution_count": 2,
   "metadata": {},
   "outputs": [],
   "source": [
    "npop = 9\n",
    "feq=[]\n",
    "cs = 1/np.sqrt(3)\n",
    "cs2 = cs**2\n",
    "cs6 = cs**6\n",
    "cs8 = cs**8\n",
    "\n",
    "U = sp.symbols('ux')\n",
    "V = sp.Symbol('uy')\n",
    "R = sp.Symbol('rho')\n",
    "\n",
    "K3 = sp.symbols('k3')\n",
    "K4 = sp.symbols('k4')\n",
    "K5 = sp.symbols('k5')"
   ]
  },
  {
   "cell_type": "code",
   "execution_count": 3,
   "metadata": {},
   "outputs": [],
   "source": [
    "c_x = [0, 1, 0, -1, 0, 1, -1, -1, 1]\n",
    "c_y = [0, 0, 1, 0, -1, 1, 1, -1, -1]\n",
    "w = [4/9, 1/9, 1/9, 1/9, 1/9, 1/36, 1/36, 1/36, 1/36]\n",
    "u2 = U**2 + V**2"
   ]
  },
  {
   "cell_type": "code",
   "execution_count": 4,
   "metadata": {},
   "outputs": [],
   "source": [
    "feq=[]\n",
    "for i in range(npop):\n",
    "    first_order = 3 * (U*c_x[i] + V*c_y[i])\n",
    "    second_order = 4.5 * ((U*c_x[i] + V*c_y[i])**2) - 1.5 * u2\n",
    "    third_order = 1/(2*cs6)*((c_x[i]**2-1/3)*c_y[i]*U*U*V+(c_y[i]**2-1/3)*c_x[i]*U*V*V);\n",
    "    fourth_order = 1/(4*cs8)*((c_x[i]**2-1/3)*(c_y[i]**2-1/3)*U*U*V*V);\n",
    "    \n",
    "    feq_ = w[i] * R * (1 + first_order + second_order + third_order + fourth_order)\n",
    "    \n",
    "    feq.append(sp.simplify(feq_, rational=True))\n",
    "    \n",
    "#print(*feq, sep = \"\\n\")"
   ]
  },
  {
   "cell_type": "code",
   "execution_count": 5,
   "metadata": {},
   "outputs": [],
   "source": [
    "T_bar = [[] for _ in range(npop)]\n",
    "\n",
    "for i in range(npop):    \n",
    "    CX = c_x[i]-U\n",
    "    CY = c_y[i]-V\n",
    "    T_bar[0].append(1)\n",
    "    T_bar[1].append(CX)\n",
    "    T_bar[2].append(CY)\n",
    "    T_bar[3].append(CX*CX+CY*CY)\n",
    "    T_bar[4].append(CX*CX-CY*CY)\n",
    "    T_bar[5].append(CX*CY)\n",
    "    T_bar[6].append(CX*CX*CY)\n",
    "    T_bar[7].append(CX*CY*CY)\n",
    "    T_bar[8].append(CX*CX*CY*CY)"
   ]
  },
  {
   "cell_type": "code",
   "execution_count": 6,
   "metadata": {},
   "outputs": [
    {
     "name": "stdout",
     "output_type": "stream",
     "text": [
      "rho\n",
      "0\n",
      "0\n",
      "2*rho/3\n",
      "0\n",
      "0\n",
      "0\n",
      "0\n",
      "rho/9\n"
     ]
    }
   ],
   "source": [
    "k_eq = sp.simplify(np.dot(T_bar,np.transpose(feq)), rational=True)\n",
    "np.set_printoptions(suppress=True)\n",
    "print(*k_eq, sep = \"\\n\")"
   ]
  },
  {
   "cell_type": "code",
   "execution_count": 7,
   "metadata": {},
   "outputs": [],
   "source": [
    "T_bar = sp.Matrix(T_bar)\n",
    "T_bar_inv = T_bar.inv() "
   ]
  },
  {
   "cell_type": "code",
   "execution_count": 8,
   "metadata": {},
   "outputs": [],
   "source": [
    "k_star = [R, 0, 0, K3, K4, K5, 0, 0, R/9] \n",
    "\n",
    "f = sp.simplify(np.dot(T_bar_inv,np.transpose(k_star)))"
   ]
  },
  {
   "cell_type": "code",
   "execution_count": 9,
   "metadata": {},
   "outputs": [
    {
     "name": "stdout",
     "output_type": "stream",
     "text": [
      "k3*(ux**2 + uy**2 - 2)/2 - k4*(ux**2 - uy**2)/2 + 4*k5*ux*uy + rho*(ux**2*uy**2 - ux**2 - uy**2 + 1) + rho/9\n",
      "-k3*(ux**2 + ux + uy**2 - 1)/4 + k4*(ux**2 + ux - uy**2 + 1)/4 - k5*uy*(2*ux + 1) - rho*ux*(ux*uy**2 - ux + uy**2 - 1)/2 - rho/18\n",
      "-k3*(ux**2 + uy**2 + uy - 1)/4 - k4*(-ux**2 + uy**2 + uy + 1)/4 - k5*ux*(2*uy + 1) - rho*uy*(ux**2*uy + ux**2 - uy - 1)/2 - rho/18\n",
      "-k3*(ux**2 - ux + uy**2 - 1)/4 + k4*(ux**2 - ux - uy**2 + 1)/4 - k5*uy*(2*ux - 1) - rho*ux*(ux*uy**2 - ux - uy**2 + 1)/2 - rho/18\n",
      "-k3*(ux**2 + uy**2 - uy - 1)/4 + k4*(ux**2 - uy**2 + uy - 1)/4 - k5*ux*(2*uy - 1) - rho*uy*(ux**2*uy - ux**2 - uy + 1)/2 - rho/18\n",
      "k3*(ux**2 + ux + uy**2 + uy)/8 - k4*(ux**2 + ux - uy**2 - uy)/8 + k5*(4*ux*uy + 2*ux + 2*uy + 1)/4 + rho*ux*uy*(ux*uy + ux + uy + 1)/4 + rho/36\n",
      "k3*(ux**2 - ux + uy**2 + uy)/8 + k4*(-ux**2 + ux + uy**2 + uy)/8 + k5*(4*ux*uy + 2*ux - 2*uy - 1)/4 + rho*ux*uy*(ux*uy + ux - uy - 1)/4 + rho/36\n",
      "k3*(ux**2 - ux + uy**2 - uy)/8 - k4*(ux**2 - ux - uy**2 + uy)/8 + k5*(4*ux*uy - 2*ux - 2*uy + 1)/4 + rho*ux*uy*(ux*uy - ux - uy + 1)/4 + rho/36\n",
      "k3*(ux**2 + ux + uy**2 - uy)/8 - k4*(ux**2 + ux - uy**2 + uy)/8 + k5*(4*ux*uy - 2*ux + 2*uy - 1)/4 + rho*ux*uy*(ux*uy - ux + uy - 1)/4 + rho/36\n"
     ]
    }
   ],
   "source": [
    "print(*f, sep = \"\\n\")"
   ]
  },
  {
   "cell_type": "code",
   "execution_count": null,
   "metadata": {},
   "outputs": [],
   "source": []
  }
 ],
 "metadata": {
  "kernelspec": {
   "display_name": "py39",
   "language": "python",
   "name": "py39"
  },
  "language_info": {
   "codemirror_mode": {
    "name": "ipython",
    "version": 3
   },
   "file_extension": ".py",
   "mimetype": "text/x-python",
   "name": "python",
   "nbconvert_exporter": "python",
   "pygments_lexer": "ipython3",
   "version": "3.9.7"
  }
 },
 "nbformat": 4,
 "nbformat_minor": 2
}
